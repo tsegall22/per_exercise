{
 "cells": [
  {
   "cell_type": "code",
   "execution_count": 1,
   "metadata": {},
   "outputs": [],
   "source": [
    "## imports\n",
    "import pandas as pd\n",
    "import numpy as np\n"
   ]
  },
  {
   "cell_type": "code",
   "execution_count": 2,
   "metadata": {},
   "outputs": [
    {
     "name": "stdout",
     "output_type": "stream",
     "text": [
      "            0               1                      2  \\\n",
      "0  1473756847   175.51.37.136  /product/3931/details   \n",
      "1  1473756857  126.170.31.163                  /home   \n",
      "2  1473756861   208.78.171.75     /search?query=1403   \n",
      "3  1473756863  75.225.145.170              /checkout   \n",
      "4  1473756863    35.106.55.96                /signup   \n",
      "\n",
      "                                                   3  \n",
      "0  Mozilla/5.0 (Windows NT 5.1) AppleWebKit/537.3...  \n",
      "1  Mozilla/5.0 (Macintosh; Intel Mac OS X 10_9_5)...  \n",
      "2  Mozilla/5.0 (Macintosh; Intel Mac OS X 10_9_5)...  \n",
      "3  Mozilla/5.0 (Windows NT 6.3) AppleWebKit/537.3...  \n",
      "4  Mozilla/5.0 (Windows NT 6.3) AppleWebKit/537.3...  \n",
      "\n",
      " The shape of the data is:\n",
      "(94200, 4)\n"
     ]
    }
   ],
   "source": [
    "## read data and view first 5 rows\n",
    "filepath = r\"C:\\Projects\\Deep Learning Academy\\PerimeterX\\challenge.tsv\"\n",
    "data = pd.read_csv(filepath_or_buffer=filepath, delimiter=\"\\t\", header=None)\n",
    "print(data.head(5))\n",
    "print(\"\\n The shape of the data is:\")\n",
    "print(data.shape)"
   ]
  },
  {
   "cell_type": "code",
   "execution_count": 3,
   "metadata": {},
   "outputs": [
    {
     "name": "stdout",
     "output_type": "stream",
     "text": [
      "0   2016-09-13 08:54:07\n",
      "1   2016-09-13 08:54:17\n",
      "2   2016-09-13 08:54:21\n",
      "3   2016-09-13 08:54:23\n",
      "4   2016-09-13 08:54:23\n",
      "Name: 0, dtype: datetime64[ns]\n"
     ]
    }
   ],
   "source": [
    "# The data is with a shape of (94200,4)\n",
    "# Looking at the data, it seems that the first column is in chronological order - could be a time stamp\n",
    "# We will check that this columns is in chronological order and convert it to pandas timestamp in case it is\n",
    "is_chronological = np.all(data.iloc[:,0].diff()[1:] >= 0)\n",
    "if is_chronological:\n",
    "    data.iloc[:,0] = pd.to_datetime(data.iloc[:,0],unit='s')\n",
    "print(data.iloc[:,0].head(5))\n"
   ]
  },
  {
   "cell_type": "code",
   "execution_count": 4,
   "metadata": {},
   "outputs": [],
   "source": [
    "# First column is indeed in chronological order - timestamp\n",
    "# Second column appears to be the ip address\n",
    "# Third column appears to be the the customer request\n",
    "# Fourth column appears to be some technical details about the customer software environment\n",
    "## lets rename the columns for better code readability\n",
    "data.columns = [\"time\", \"ip\", \"request\", \"details\"]"
   ]
  },
  {
   "cell_type": "code",
   "execution_count": 5,
   "metadata": {},
   "outputs": [
    {
     "name": "stdout",
     "output_type": "stream",
     "text": [
      "Index(['time', 'ip', 'request', 'os', 'chrome_ver'], dtype='object')\n"
     ]
    }
   ],
   "source": [
    "## lets break down the fourth column into different features and remove unnecessary ones\n",
    "data[[\"firefox_ver\", \"details\"]] = data[\"details\"].str.split(n=1, expand=True)\n",
    "data[[\"os\", \"details\"]] = data[\"details\"].str.split(\")\", n=1, expand=True)\n",
    "data[\"os\"] = data[\"os\"].str.replace(\"(\", \"\")\n",
    "data[[\"apple_web_kit\", \"details\"]] = data[\"details\"].str.split(\"(\", n=1, expand=True)\n",
    "data[[\"html\", \"details\"]] = data[\"details\"].str.split(\")\", n=1, expand=True)\n",
    "data[[\"chrome_ver\", \"details\"]] = data[\"details\"].str.split(n=1, expand=True)\n",
    "data.rename({\"details\": \"safari_ver\"}, axis=1, inplace=True)\n",
    "unique_cols = data.apply(pd.Series.nunique)\n",
    "\n",
    "# remove columns that have only one unique value - these columns are not meaningful\n",
    "cols_to_remove = [col for ind, col in enumerate(unique_cols.index) if unique_cols[ind] == 1]\n",
    "data.drop(cols_to_remove, axis=1, inplace=True)\n",
    "print(data.columns)"
   ]
  },
  {
   "cell_type": "code",
   "execution_count": 6,
   "metadata": {},
   "outputs": [],
   "source": [
    "# The only information that is meaningful is the \"os\" (operating system) and \"chrome_ver\" (chrome version)\n",
    "# we will concatenate them back into detailsdata[\"details\"] = data[\"os\"] + \"_\" + data[\"chrome_ver\"]\n",
    "data[\"details\"] = data[\"os\"] + \"_\" + data[\"chrome_ver\"]\n",
    "data.drop([\"os\", \"chrome_ver\"], axis=1, inplace=True)"
   ]
  },
  {
   "cell_type": "code",
   "execution_count": 7,
   "metadata": {},
   "outputs": [
    {
     "name": "stdout",
     "output_type": "stream",
     "text": [
      "<class 'pandas.core.frame.DataFrame'>\n",
      "RangeIndex: 94200 entries, 0 to 94199\n",
      "Data columns (total 4 columns):\n",
      "time       94200 non-null datetime64[ns]\n",
      "ip         94200 non-null object\n",
      "request    94200 non-null object\n",
      "details    94200 non-null object\n",
      "dtypes: datetime64[ns](1), object(3)\n",
      "memory usage: 2.9+ MB\n"
     ]
    }
   ],
   "source": [
    "## Check if there are missing values and fill/drop them\n",
    "data.info()"
   ]
  },
  {
   "cell_type": "code",
   "execution_count": 8,
   "metadata": {},
   "outputs": [
    {
     "name": "stdout",
     "output_type": "stream",
     "text": [
      "2016-09-13 18:20:07    2\n",
      "2016-09-13 11:53:05    2\n",
      "2016-09-15 18:07:57    2\n",
      "2016-09-17 17:06:37    2\n",
      "2016-09-13 12:25:35    2\n",
      "2016-09-18 15:11:17    2\n",
      "2016-09-15 00:22:43    2\n",
      "2016-09-16 18:28:09    2\n",
      "2016-09-17 15:36:12    2\n",
      "2016-09-13 11:52:43    2\n",
      "2016-09-18 18:34:15    2\n",
      "2016-09-18 05:10:52    2\n",
      "2016-09-14 05:54:29    2\n",
      "2016-09-18 08:23:35    2\n",
      "2016-09-13 12:30:27    2\n",
      "2016-09-14 16:10:04    2\n",
      "2016-09-18 22:46:47    2\n",
      "2016-09-19 09:52:40    2\n",
      "2016-09-13 14:43:04    2\n",
      "2016-09-15 15:54:22    2\n",
      "2016-09-19 16:34:36    2\n",
      "2016-09-14 11:18:14    2\n",
      "2016-09-15 14:03:57    2\n",
      "2016-09-14 16:23:55    2\n",
      "2016-09-16 04:23:04    2\n",
      "2016-09-13 12:29:59    2\n",
      "2016-09-20 02:29:46    2\n",
      "2016-09-19 08:32:24    2\n",
      "2016-09-20 02:00:03    2\n",
      "2016-09-16 13:46:15    2\n",
      "Name: time, dtype: int64\n",
      "(93573,)\n"
     ]
    }
   ],
   "source": [
    "# There are no missing values\n",
    "## examining the time column\n",
    "time_hist = data[\"time\"].value_counts().sort_values(ascending=False)\n",
    "print(time_hist.head(30))\n",
    "print(time_hist.shape)"
   ]
  },
  {
   "cell_type": "code",
   "execution_count": 9,
   "metadata": {},
   "outputs": [
    {
     "name": "stdout",
     "output_type": "stream",
     "text": [
      "35.106.55.96       1547\n",
      "233.74.135.80      1453\n",
      "166.164.14.1        520\n",
      "41.12.245.38        480\n",
      "230.25.250.72        61\n",
      "126.87.50.48         56\n",
      "142.200.200.107      44\n",
      "46.172.26.84         39\n",
      "210.41.151.100       25\n",
      "117.246.221.124      22\n",
      "64.223.217.72        21\n",
      "50.76.76.111         21\n",
      "76.58.197.12         20\n",
      "151.179.104.109      20\n",
      "222.6.181.228        20\n",
      "141.57.7.72          20\n",
      "136.172.68.175       20\n",
      "163.242.119.53       20\n",
      "114.54.190.111       20\n",
      "244.26.45.76         19\n",
      "108.74.164.157       19\n",
      "158.167.171.198      19\n",
      "128.40.245.181       19\n",
      "161.85.35.229        19\n",
      "5.34.253.135         19\n",
      "142.55.42.221        19\n",
      "107.185.105.78       19\n",
      "201.20.6.220         19\n",
      "210.48.104.83        19\n",
      "165.153.129.77       19\n",
      "Name: ip, dtype: int64\n",
      "(10006,)\n"
     ]
    }
   ],
   "source": [
    "# There are no more than two requests at the same time stamp\n",
    "## examining the ip column\n",
    "ip_hist = data[\"ip\"].value_counts().sort_values(ascending=False)\n",
    "print(ip_hist.head(30))\n",
    "print(ip_hist.shape)"
   ]
  },
  {
   "cell_type": "code",
   "execution_count": 10,
   "metadata": {},
   "outputs": [
    {
     "name": "stdout",
     "output_type": "stream",
     "text": [
      "/contact                 6332\n",
      "/home                    6304\n",
      "/view_order              6242\n",
      "/signup                  6141\n",
      "/checkout                6081\n",
      "/search?query=7           362\n",
      "/search?query=88          329\n",
      "/search?query=13          318\n",
      "/search?query=3265         11\n",
      "/product/8194/details      11\n",
      "Name: request, dtype: int64\n",
      "(19054,)\n"
     ]
    }
   ],
   "source": [
    "## We can see that there are some ips with significant more traffic than the others - these ips are suspicious to be attackers\n",
    "## examining the request column\n",
    "request_hist = data[\"request\"].value_counts().sort_values(ascending=False)\n",
    "print(request_hist.head(10))\n",
    "print(request_hist.shape)"
   ]
  },
  {
   "cell_type": "code",
   "execution_count": 11,
   "metadata": {},
   "outputs": [
    {
     "name": "stdout",
     "output_type": "stream",
     "text": [
      "The number of unique queries is: 9528\n",
      "The number of unique products is: 9521\n"
     ]
    }
   ],
   "source": [
    "# We can see that there are 8 requests that occur much more than others\n",
    "## lets find how many different queries and products there are in the traffic data\n",
    "# and see if there is any ip that tried to retrieve all this data\n",
    "query_inds = data[\"request\"].str.contains(\"query\")\n",
    "num_unique_queries = len(data[\"request\"].loc[query_inds].unique())\n",
    "product_inds = data[\"request\"].str.contains(\"product\")\n",
    "num_unique_products = len(data[\"request\"].loc[product_inds].unique())\n",
    "print(\"The number of unique queries is: \" + str(num_unique_queries))\n",
    "print(\"The number of unique products is: \" + str(num_unique_products))\n"
   ]
  },
  {
   "cell_type": "code",
   "execution_count": 12,
   "metadata": {},
   "outputs": [
    {
     "name": "stdout",
     "output_type": "stream",
     "text": [
      "Windows NT 6.1_Chrome/45.0.2454.85                       2481\n",
      "Macintosh; Intel Mac OS X 10_8_3_Chrome/41.0.2403.157    2167\n",
      "Macintosh; Intel Mac OS X 10_9_5_Chrome/39.0.2403.157    2134\n",
      "Macintosh; Intel Mac OS X 10_7_4_Chrome/42.0.2403.157    2118\n",
      "Macintosh; Intel Mac OS X 10_7_4_Chrome/43.0.2403.157    2101\n",
      "Macintosh; Intel Mac OS X 10_9_5_Chrome/45.0.2403.157    2093\n",
      "Macintosh; Intel Mac OS X 10_8_3_Chrome/38.0.2403.157    2070\n",
      "Macintosh; Intel Mac OS X 10_9_5_Chrome/41.0.2403.157    2010\n",
      "Macintosh; Intel Mac OS X 10_8_3_Chrome/43.0.2403.157    2009\n",
      "Macintosh; Intel Mac OS X 10_7_4_Chrome/38.0.2403.157    1994\n",
      "Macintosh; Intel Mac OS X 10_9_5_Chrome/44.0.2403.157    1980\n",
      "Macintosh; Intel Mac OS X 10_8_3_Chrome/39.0.2403.157    1974\n",
      "Macintosh; Intel Mac OS X 10_7_4_Chrome/39.0.2403.157    1961\n",
      "Macintosh; Intel Mac OS X 10_8_3_Chrome/42.0.2403.157    1956\n",
      "Macintosh; Intel Mac OS X 10_9_5_Chrome/38.0.2403.157    1940\n",
      "Macintosh; Intel Mac OS X 10_7_4_Chrome/44.0.2403.157    1929\n",
      "Macintosh; Intel Mac OS X 10_9_5_Chrome/43.0.2403.157    1906\n",
      "Macintosh; Intel Mac OS X 10_8_3_Chrome/44.0.2403.157    1825\n",
      "Macintosh; Intel Mac OS X 10_7_4_Chrome/41.0.2403.157    1803\n",
      "Macintosh; Intel Mac OS X 10_8_3_Chrome/40.0.2403.157    1794\n",
      "Macintosh; Intel Mac OS X 10_7_4_Chrome/45.0.2403.157    1782\n",
      "Macintosh; Intel Mac OS X 10_9_5_Chrome/42.0.2403.157    1781\n",
      "Macintosh; Intel Mac OS X 10_8_3_Chrome/45.0.2403.157    1776\n",
      "Macintosh; Intel Mac OS X 10_9_5_Chrome/40.0.2403.157    1728\n",
      "Windows NT 6.3_Chrome/45.0.2454.85                       1708\n",
      "Macintosh; Intel Mac OS X 10_7_4_Chrome/40.0.2403.157    1675\n",
      "Windows NT 6.3_Chrome/38.0.2454.85                       1613\n",
      "Windows NT 6.2_Chrome/44.0.2454.85                       1598\n",
      "Windows NT 5.1_Chrome/38.0.2454.85                       1593\n",
      "Windows NT 6.3_Chrome/43.0.2454.85                       1571\n",
      "Windows NT 6.2_Chrome/40.0.2454.85                       1559\n",
      "Windows NT 6.1_Chrome/43.0.2454.85                       1536\n",
      "Windows NT 6.2_Chrome/43.0.2454.85                       1529\n",
      "Windows NT 5.1_Chrome/44.0.2454.85                       1517\n",
      "Windows NT 6.3_Chrome/39.0.2454.85                       1512\n",
      "Windows NT 6.3_Chrome/44.0.2454.85                       1502\n",
      "Windows NT 6.3_Chrome/41.0.2454.85                       1501\n",
      "Windows NT 5.1_Chrome/40.0.2454.85                       1483\n",
      "Windows NT 6.1_Chrome/41.0.2454.85                       1472\n",
      "Windows NT 6.2_Chrome/38.0.2454.85                       1456\n",
      "Windows NT 5.1_Chrome/43.0.2454.85                       1453\n",
      "Windows NT 6.2_Chrome/42.0.2454.85                       1439\n",
      "Windows NT 5.1_Chrome/45.0.2454.85                       1438\n",
      "Windows NT 6.1_Chrome/38.0.2454.85                       1438\n",
      "Windows NT 5.1_Chrome/39.0.2454.85                       1432\n",
      "Windows NT 6.2_Chrome/45.0.2454.85                       1422\n",
      "Windows NT 6.1_Chrome/39.0.2454.85                       1413\n",
      "Windows NT 6.3_Chrome/42.0.2454.85                       1411\n",
      "Windows NT 6.2_Chrome/39.0.2454.85                       1369\n",
      "Windows NT 6.1_Chrome/44.0.2454.85                       1364\n",
      "Name: details, dtype: int64\n",
      "(56,)\n"
     ]
    }
   ],
   "source": [
    "# There is no ip that appears close to these numbers.\n",
    "## examining the details column\n",
    "details_hist = data[\"details\"].value_counts().sort_values(ascending=False)\n",
    "print(details_hist.head(50))\n",
    "print(details_hist.shape)\n"
   ]
  },
  {
   "cell_type": "code",
   "execution_count": 13,
   "metadata": {},
   "outputs": [
    {
     "name": "stdout",
     "output_type": "stream",
     "text": [
      "                ip_appearance unique_requests unique_details mean_sec_diff  \\\n",
      "35.106.55.96             1547            1001             56       382.776   \n",
      "233.74.135.80            1453             962             56         407.7   \n",
      "166.164.14.1              520               3              1        6.8921   \n",
      "41.12.245.38              480               3              1       7.50522   \n",
      "230.25.250.72              61               1              1            98   \n",
      "126.87.50.48               56              56             38         10301   \n",
      "142.200.200.107            44              44             31       13398.7   \n",
      "46.172.26.84               39               1              1       153.158   \n",
      "210.41.151.100             25              20              1       21663.8   \n",
      "117.246.221.124            22              21              1       25393.2   \n",
      "\n",
      "                contact home view_order signup checkout query7 query88  \\\n",
      "35.106.55.96        108  122        103     94      100     60       3   \n",
      "233.74.135.80       118   81         92    101       81     52       8   \n",
      "166.164.14.1          0    0          0      0        0    186     168   \n",
      "41.12.245.38          0    0          0      0        0    173     156   \n",
      "230.25.250.72         0   61          0      0        0      0       0   \n",
      "126.87.50.48          0    0          0      0        0      0       0   \n",
      "142.200.200.107       0    0          0      0        0      0       0   \n",
      "46.172.26.84          0   39          0      0        0      0       0   \n",
      "210.41.151.100        2    1          2      0        4      0       0   \n",
      "117.246.221.124       2    1          1      1        0      0       1   \n",
      "\n",
      "                query13 product  std_sec  \n",
      "35.106.55.96          8     523  17.4415  \n",
      "233.74.135.80         9     477   17.554  \n",
      "166.164.14.1        166       0  17.8721  \n",
      "41.12.245.38        151       0  17.1661  \n",
      "230.25.250.72         0       0        0  \n",
      "126.87.50.48          0      56  16.4918  \n",
      "142.200.200.107       0      44  19.4187  \n",
      "46.172.26.84          0       0        0  \n",
      "210.41.151.100        0       9  14.1441  \n",
      "117.246.221.124       0      10  15.7824  \n"
     ]
    }
   ],
   "source": [
    "# There is nothing much to say about the occurrence of the different software specifications\n",
    "##  we will check the top 10 ips found in the data and consider them as suspicious ips\n",
    "# we will examine each one of them and find the attackers and the type of the attack\n",
    "ips_to_check = ip_hist.index[:10]\n",
    "insights = pd.DataFrame(index=ips_to_check, columns=[\"ip_appearance\", \"unique_requests\", \"unique_details\",\\\n",
    "                                                     \"mean_sec_diff\" ,\"contact\", \"home\",\\\n",
    "                                                     \"view_order\", \"signup\", \"checkout\",\\\n",
    "                                                     \"query7\", \"query88\", \"query13\", \"product\", \"std_sec\"])\n",
    "for row, suspicious_ip in enumerate(ips_to_check):\n",
    "    suspicious_data = data[data[\"ip\"] == suspicious_ip]\n",
    "    insights[\"ip_appearance\"][row] = suspicious_data.shape[0]\n",
    "    insights[\"unique_requests\"][row] = len(suspicious_data[\"request\"].unique())\n",
    "    insights[\"unique_details\"][row] = len(suspicious_data[\"details\"].unique())\n",
    "    insights[\"mean_sec_diff\"][row] = suspicious_data[\"time\"].diff().mean().total_seconds()\n",
    "    insights[\"contact\"][row] = suspicious_data[\"request\"].str.contains(\"contact\").sum()\n",
    "    insights[\"home\"][row] = suspicious_data[\"request\"].str.contains(\"home\").sum()\n",
    "    insights[\"view_order\"][row] = suspicious_data[\"request\"].str.contains(\"view_order\").sum()\n",
    "    insights[\"signup\"][row] = suspicious_data[\"request\"].str.contains(\"signup\").sum()\n",
    "    insights[\"checkout\"][row] = suspicious_data[\"request\"].str.contains(\"checkout\").sum()\n",
    "    insights[\"query7\"][row] = suspicious_data[\"request\"].str.contains(\"query=7\").sum()\n",
    "    insights[\"query88\"][row] = suspicious_data[\"request\"].str.contains(\"query=88\").sum()\n",
    "    insights[\"query13\"][row] = suspicious_data[\"request\"].str.contains(\"query=13\").sum()\n",
    "    insights[\"product\"][row] = suspicious_data[\"request\"].str.contains(\"product\").sum()\n",
    "    insights[\"std_sec\"][row] = np.std(suspicious_data['time'].astype(str).str.split(':', expand=True).iloc[:,-1].astype(int))\n",
    "print(insights)"
   ]
  },
  {
   "cell_type": "code",
   "execution_count": null,
   "metadata": {},
   "outputs": [],
   "source": [
    "## Looking at the insights dataframe, we can see that ips 35.106.55.96 and 233.74.135.80  have significant more\n",
    "# requests of type contact, home, view order, signup, checkout and product. These requests\n",
    "# are from 56 different operating systems. The attack seems to try and collect data of the products\n",
    "\n",
    "## Looking at ips 166.164.14.1 and 41.12.245.38, the average time between two requests is significantly lower\n",
    "# and there are three unique requests of queries 7, 13 and 88. It seems that the atack in this case is\n",
    "# denial of service - requesting these queries many times in a short amount of time\n",
    "\n",
    "## Looking at ips 230.25.250.72 and 46.172.26.84, we can see that all the requests are at the same\n",
    "# (standard deviation of the seconds is 0) and that all the request are of type home.\n"
   ]
  }
 ],
 "metadata": {
  "kernelspec": {
   "display_name": "Python 3",
   "language": "python",
   "name": "python3"
  },
  "language_info": {
   "codemirror_mode": {
    "name": "ipython",
    "version": 3
   },
   "file_extension": ".py",
   "mimetype": "text/x-python",
   "name": "python",
   "nbconvert_exporter": "python",
   "pygments_lexer": "ipython3",
   "version": "3.6.0"
  }
 },
 "nbformat": 4,
 "nbformat_minor": 2
}
