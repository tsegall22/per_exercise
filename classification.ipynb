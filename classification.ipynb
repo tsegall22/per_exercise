{
 "cells": [
  {
   "cell_type": "code",
   "execution_count": 1,
   "metadata": {},
   "outputs": [],
   "source": [
    "## imports\n",
    "import pandas as pd\n",
    "import numpy as np\n",
    "from sklearn.model_selection import train_test_split\n",
    "import lightgbm as lgb\n",
    "from sklearn.metrics import confusion_matrix, precision_score\n",
    "# We will use the lightgbm python package. its advantages is that you can insert to the model\n",
    "# lines with missing values. Another advantage is that categorical features can be handled with\n",
    "# unique integers/floats and is much more faster than one-hot coding"
   ]
  },
  {
   "cell_type": "code",
   "execution_count": 2,
   "metadata": {},
   "outputs": [
    {
     "name": "stdout",
     "output_type": "stream",
     "text": [
      "     ID  product vertical  HOUR Device Location  was clicked gender age\n",
      "0  2721      695      'J'     0   'D8'        ?        False      m   ?\n",
      "1  2722      695      'A'     0   'D8'        ?        False      m   ?\n",
      "2  2723      695      'B'     0   'D8'        ?        False      m   ?\n",
      "3  2724      695      'C'     0   'D8'        ?        False      m   ?\n",
      "4  2725      121      'D'     2      ?        ?        False      f  21\n",
      "(100000, 9)\n"
     ]
    }
   ],
   "source": [
    "## Load and observe the data\n",
    "filepath = r\"C:\\Projects\\Deep Learning Academy\\PerimeterX\\Nominal2_obf.csv\"\n",
    "data = pd.read_csv(filepath)\n",
    "print(data.head(5))\n",
    "print(data.shape)\n"
   ]
  },
  {
   "cell_type": "code",
   "execution_count": 3,
   "metadata": {},
   "outputs": [
    {
     "name": "stdout",
     "output_type": "stream",
     "text": [
      "Percentage of missing values in each column:\n",
      "ID               0.000\n",
      "product          0.000\n",
      "vertical         0.001\n",
      "HOUR             0.000\n",
      "Device          39.351\n",
      "Location       100.000\n",
      "was clicked      0.000\n",
      "gender           0.000\n",
      "age              9.751\n",
      "dtype: float64\n"
     ]
    }
   ],
   "source": [
    "## lets remove columns that are non-informative\n",
    "data[data == \"?\"] = np.nan\n",
    "print(\"Percentage of missing values in each column:\")\n",
    "print(pd.isnull(data).sum()/data.shape[0] * 100)\n"
   ]
  },
  {
   "cell_type": "code",
   "execution_count": 4,
   "metadata": {},
   "outputs": [],
   "source": [
    "# We can see that all values in the location column are missing - location is not informative\n",
    "# There are also some missing values in columns \"vertical\", \"Device\" and \"age\", but the model will handle it\n",
    "#  We will remove the columns \"ID\" and \"Location\" which are non-informative\n",
    "data.drop([\"ID\", \"Location\"], axis=1, inplace=True)\n"
   ]
  },
  {
   "cell_type": "code",
   "execution_count": 5,
   "metadata": {},
   "outputs": [
    {
     "name": "stdout",
     "output_type": "stream",
     "text": [
      "The percentage of lines clicked is: 6.5%\n"
     ]
    }
   ],
   "source": [
    "## lets check if the data is balanced\n",
    "percentage_clicked = (data[\"was clicked\"].sum())/data.shape[0]\n",
    "print(\"The percentage of lines clicked is: \" + str(round(percentage_clicked*100,1)) + \"%\")\n"
   ]
  },
  {
   "cell_type": "code",
   "execution_count": 6,
   "metadata": {},
   "outputs": [],
   "source": [
    "# The data is unbalanced\n",
    "## Convert categorical columns to floats\n",
    "categorical_cols = [\"product\", \"vertical\", \"Device\", \"gender\"]\n",
    "for col in categorical_cols:\n",
    "    data[col], levels  = pd.factorize(data[col], na_sentinel=-100)\n",
    "data[data == -100] = np.nan\n"
   ]
  },
  {
   "cell_type": "code",
   "execution_count": 7,
   "metadata": {},
   "outputs": [],
   "source": [
    "## Convert the age column (string) to float\n",
    "data[\"age\"] = data[\"age\"].astype(float)\n"
   ]
  },
  {
   "cell_type": "code",
   "execution_count": 8,
   "metadata": {},
   "outputs": [],
   "source": [
    "## Divide to features and target\n",
    "y = data[\"was clicked\"]\n",
    "x = data.drop([\"was clicked\"], axis=1)\n"
   ]
  },
  {
   "cell_type": "code",
   "execution_count": 9,
   "metadata": {},
   "outputs": [],
   "source": [
    "## Divide to train and test sets\n",
    "x_train, x_test, y_train, y_test = train_test_split(x, y, test_size=0.3, shuffle=True, random_state=42) #random_state for reproducing the results between runs\n",
    "x_train = x_train.values\n",
    "x_test = x_test.values\n"
   ]
  },
  {
   "cell_type": "code",
   "execution_count": 10,
   "metadata": {},
   "outputs": [],
   "source": [
    "# create train data set for the lgb training model\n",
    "lgb_train = lgb.Dataset(x_train, y_train)\n"
   ]
  },
  {
   "cell_type": "code",
   "execution_count": 11,
   "metadata": {},
   "outputs": [],
   "source": [
    "# Specifying the parameters of the model and taking into consideration the unbalanced data\n",
    "params = {\n",
    "    'task': 'train',\n",
    "    'boosting_type': 'gbdt',\n",
    "    'objective': 'binary',\n",
    "    'metric': {\"binary_error\"},\n",
    "    'num_leaves': 31,\n",
    "    'learning_rate': 0.05,\n",
    "    'verbose': 0,\n",
    "    'scale_pos_weight':0.85 # handles with the unbalanced data\n",
    "}\n"
   ]
  },
  {
   "cell_type": "code",
   "execution_count": 12,
   "metadata": {},
   "outputs": [],
   "source": [
    "# train\n",
    "gbm = lgb.train(params,\n",
    "                lgb_train,\n",
    "                num_boost_round=2000)\n"
   ]
  },
  {
   "cell_type": "code",
   "execution_count": 13,
   "metadata": {},
   "outputs": [],
   "source": [
    "## The following is a function that predicts and evaluates the predictions of the model\n",
    "def evaluate_prediction(x, ytrue, gbm, threshold=0.5):\n",
    "    # The function evaluates the predictions of a given model\n",
    "    # Inputs:\n",
    "    # x - MxN numpy array of the features\n",
    "    # ytrue - Mx1 numpy array of the targets\n",
    "    # gbm - predictive model\n",
    "    # threshold - The threshold for a prediction probability to be considered as class \"1\" (clicked)\n",
    "    #\n",
    "    # Outputs:\n",
    "    # x - features\n",
    "    # ypred - Mx1 numpy array of the predicted probabilities to be clicked \n",
    "    # accuracy - 1x1 of the accuracy of the model\n",
    "    # conf_matrix - 2x2 of the confusion matrix of the model\n",
    "    # conf_matrix[0,0] - true negatives\n",
    "    # conf_matrix[1,0] - false negatives\n",
    "    # conf_matrix[0,1] - false positives\n",
    "    # conf_matrix[1,1] - true positives\n",
    "    # precision - 1x1 of the precision of the model\n",
    "    ypred = gbm.predict(x)\n",
    "\n",
    "    # binarize the predictions based on a threshold (default of 50%). If the probability to have a click is greater\n",
    "    #  than the threshold, it will be considered as a prediction of a clicked ad\n",
    "    ypred_binary = ypred > threshold\n",
    "    accuracy = (sum(ypred_binary == ytrue)) / ytrue.shape[0]\n",
    "    conf_matrix = confusion_matrix(ytrue, ypred_binary)\n",
    "    precision = precision_score(ytrue, ypred_binary, average=\"binary\")\n",
    "\n",
    "    return ypred, accuracy, conf_matrix, precision"
   ]
  },
  {
   "cell_type": "code",
   "execution_count": 14,
   "metadata": {},
   "outputs": [],
   "source": [
    "## prediction of the test set\n",
    "ypred_test, accuracy_test, conf_matrix_test, precision_test = evaluate_prediction(x_test, y_test, gbm)\n"
   ]
  },
  {
   "cell_type": "code",
   "execution_count": 15,
   "metadata": {},
   "outputs": [
    {
     "name": "stdout",
     "output_type": "stream",
     "text": [
      "[9.19841286e-01 3.55404998e-05 3.68506633e-03 1.57380199e-01\n",
      " 1.27153877e-04 2.08039020e-02 1.15406829e-03 2.87942422e-03\n",
      " 4.08753388e-05 1.17074086e-02]\n",
      "The prediction accuracy on the test set is: 96.7%\n",
      "The confusion matrix on the test set is: \n",
      "[[27795   266]\n",
      " [  718  1221]]\n",
      "The precision on the test set is: 82.1%\n"
     ]
    }
   ],
   "source": [
    "# We will print some results of the prediction of the test set\n",
    "# \"ypred_test\" holds the probability to have a click. We will print The first 10 values\n",
    "print(ypred_test[:10])\n",
    "print(\"The prediction accuracy on the test set is: \" + str(round(accuracy_test*100,1)) + str(\"%\"))\n",
    "print(\"The confusion matrix on the test set is: \")\n",
    "print(conf_matrix_test)\n",
    "# We could adjust the parameter \"scale_pos_weight\" to get more true positives - it depends on what is\n",
    "# important for us in the prediction\n",
    "print(\"The precision on the test set is: \" + str(round(precision_test*100,1)) + str(\"%\"))\n"
   ]
  },
  {
   "cell_type": "code",
   "execution_count": 16,
   "metadata": {},
   "outputs": [],
   "source": [
    "## Prediction of all lines of the dataset as requested\n",
    "ypred_all, accuracy_all, conf_matrix_all, precision_all = evaluate_prediction(x, y, gbm)\n"
   ]
  },
  {
   "cell_type": "code",
   "execution_count": 17,
   "metadata": {},
   "outputs": [
    {
     "name": "stdout",
     "output_type": "stream",
     "text": [
      "[1.28521031e-10 3.08080928e-09 7.02731075e-10 2.46250652e-08\n",
      " 3.06340355e-04 4.23061900e-04 6.15251178e-04 4.33842378e-04\n",
      " 4.53744867e-04 5.09575348e-03]\n",
      "The prediction accuracy on the whole dataset is: 97.2%\n",
      "The confusion matrix on the whole data set is: \n",
      "[[92767   710]\n",
      " [ 2128  4395]]\n",
      "The precision on the whole dataset is: 86.1%\n"
     ]
    }
   ],
   "source": [
    "## Printing some results of the prediction of all lines in the dataset\n",
    "print(ypred_all[:10])\n",
    "print(\"The prediction accuracy on the whole dataset is: \" + str(round(accuracy_all*100,1)) + str(\"%\"))\n",
    "print(\"The confusion matrix on the whole data set is: \")\n",
    "print(conf_matrix_all)\n",
    "print(\"The precision on the whole dataset is: \" + str(round(precision_all*100,1)) + str(\"%\"))\n"
   ]
  },
  {
   "cell_type": "code",
   "execution_count": null,
   "metadata": {},
   "outputs": [],
   "source": [
    "## We can also perform a grid search to optimize the parameters of the classifier"
   ]
  }
 ],
 "metadata": {
  "kernelspec": {
   "display_name": "Python 3",
   "language": "python",
   "name": "python3"
  },
  "language_info": {
   "codemirror_mode": {
    "name": "ipython",
    "version": 3
   },
   "file_extension": ".py",
   "mimetype": "text/x-python",
   "name": "python",
   "nbconvert_exporter": "python",
   "pygments_lexer": "ipython3",
   "version": "3.6.0"
  }
 },
 "nbformat": 4,
 "nbformat_minor": 2
}
