{
 "cells": [
  {
   "cell_type": "code",
   "execution_count": 1,
   "metadata": {},
   "outputs": [],
   "source": [
    "## imports\n",
    "import pandas as pd\n",
    "import numpy as np\n",
    "from matplotlib import pyplot as plt\n",
    "import datetime"
   ]
  },
  {
   "cell_type": "code",
   "execution_count": 2,
   "metadata": {},
   "outputs": [
    {
     "name": "stdout",
     "output_type": "stream",
     "text": [
      "                f0_                                          ua_server  \\\n",
      "0  1486400318059000  Mozilla/5.0 (Macintosh; Intel Mac OS X 10_11_2...   \n",
      "1  1486400339589000  Mozilla/5.0 (Windows NT 6.1; Win64; x64) Apple...   \n",
      "2  1486400331881000  Mozilla/5.0 (Macintosh; Intel Mac OS X 10_9_5)...   \n",
      "3  1486400420303000  Mozilla/5.0 (X11; Linux x86_64; rv:47.0) Gecko...   \n",
      "4  1486400314265000  Mozilla/5.0 (Windows NT 10.0; Win64; x64; rv:4...   \n",
      "\n",
      "        socket_ip    path  \n",
      "0  216.107.163.79  /login  \n",
      "1     50.67.4.172  /login  \n",
      "2   75.138.200.57  /login  \n",
      "3   106.184.6.187  /login  \n",
      "4  24.214.241.129  /login  \n",
      "(301983, 4)\n"
     ]
    }
   ],
   "source": [
    "## observe the data\n",
    "filepath = r\"C:\\Projects\\Deep Learning Academy\\PerimeterX\\Analysts_test1.csv\"\n",
    "data = pd.read_csv(filepath)\n",
    "print(data.head(5))\n",
    "print(data.shape)\n"
   ]
  },
  {
   "cell_type": "code",
   "execution_count": 3,
   "metadata": {},
   "outputs": [
    {
     "name": "stdout",
     "output_type": "stream",
     "text": [
      "Index(['f0_', 'ua_server', 'socket_ip'], dtype='object')\n"
     ]
    }
   ],
   "source": [
    "# The data is with a shape of (301983,4)\n",
    "# remove columns that have only one unique value - these columns are not meaningful\n",
    "unique_cols = data.apply(pd.Series.nunique)\n",
    "cols_to_remove = [col for ind, col in enumerate(unique_cols.index) if unique_cols[ind] == 1]\n",
    "data.drop(cols_to_remove, axis=1, inplace=True)\n",
    "print(data.columns)\n"
   ]
  },
  {
   "cell_type": "code",
   "execution_count": 4,
   "metadata": {},
   "outputs": [],
   "source": [
    "# The column \"path\" was removed - had only one unique value \"login\". All rows are login attempts\n",
    "## The f0_ column looks like epoch timestamps. We will convert to date times and sort values\n",
    "data['f0_'] = data[\"f0_\"].apply(lambda x: datetime.datetime.fromtimestamp(x // 1000000))\n",
    "data = data.sort_values(by=\"f0_\")\n"
   ]
  },
  {
   "cell_type": "code",
   "execution_count": 10,
   "metadata": {},
   "outputs": [
    {
     "data": {
      "text/plain": [
       "Text(0.5,1,'Number of login attempts per minute')"
      ]
     },
     "execution_count": 10,
     "metadata": {},
     "output_type": "execute_result"
    },
    {
     "data": {
      "image/png": "[encoded data removed]",
      "text/plain": [
       "<Figure size 1152x432 with 1 Axes>"
      ]
     },
     "metadata": {},
     "output_type": "display_data"
    }
   ],
   "source": [
    "# we will draw a histogram of the number of login every minute in the data\n",
    "num_minutes = int(np.round((data[\"f0_\"].iloc[-1] - data[\"f0_\"].iloc[0]).total_seconds()/60))\n",
    "plt.figure(figsize=(16, 6))\n",
    "plt.hist(data[\"f0_\"], num_minutes)\n",
    "plt.xlabel(\"date time\")\n",
    "plt.ylabel(\"counts\")\n",
    "plt.title(\"Number of login attempts per minute\")\n"
   ]
  },
  {
   "cell_type": "code",
   "execution_count": 11,
   "metadata": {},
   "outputs": [
    {
     "name": "stdout",
     "output_type": "stream",
     "text": [
      "1%                       0.000\n",
      "1.1%                     0.000\n",
      "1.2%                     0.000\n",
      "1.3%                     0.000\n",
      "1.4%                     0.000\n",
      "1.5%                     0.000\n",
      "1.6%                     0.000\n",
      "1.7%                     0.000\n",
      "1.8%                     0.000\n",
      "1.9%                     0.000\n",
      "2.0%                     0.000\n",
      "2.1%                     0.000\n",
      "2.2%                     0.000\n",
      "2.3%                     0.000\n",
      "2.4%                     0.000\n",
      "2.5%                     0.000\n",
      "2.6%                     0.000\n",
      "2.7%                     0.000\n",
      "2.8%                     0.000\n",
      "2.9%                     0.000\n",
      "3.0%                     0.000\n",
      "3.1%                     0.000\n",
      "3.2%                     0.000\n",
      "3.3%                     0.000\n",
      "3.4%                     0.000\n",
      "3.5%                     0.000\n",
      "3.6%                     0.000\n",
      "3.7%                     0.000\n",
      "3.8%                     0.000\n",
      "3.9%                     0.000\n",
      "                        ...   \n",
      "97.09999999999992%      11.000\n",
      "97.19999999999992%      11.000\n",
      "97.29999999999993%      11.000\n",
      "97.39999999999992%      12.000\n",
      "97.49999999999991%      12.000\n",
      "97.59999999999992%      13.000\n",
      "97.69999999999992%      14.000\n",
      "97.79999999999993%      15.000\n",
      "97.89999999999992%      17.000\n",
      "97.99999999999991%      21.840\n",
      "98.09999999999992%      27.499\n",
      "98.19999999999992%      51.312\n",
      "98.29999999999993%      66.000\n",
      "98.39999999999992%      68.000\n",
      "98.49999999999991%      80.630\n",
      "98.59999999999992%     100.894\n",
      "98.69999999999992%     110.973\n",
      "98.79999999999993%     123.208\n",
      "98.89999999999992%     156.655\n",
      "98.99999999999991%     223.100\n",
      "99.09999999999992%     307.000\n",
      "99.19999999999992%     475.992\n",
      "99.29999999999993%     893.009\n",
      "99.39999999999992%    2212.178\n",
      "99.49999999999991%    2824.840\n",
      "99.59999999999992%    2917.000\n",
      "99.69999999999992%    2986.763\n",
      "99.79999999999993%    3405.368\n",
      "99.89999999999992%    3664.551\n",
      "max                   7318.000\n",
      "Name: f0_, Length: 992, dtype: float64\n"
     ]
    }
   ],
   "source": [
    "# it clearly looks from the histogram that there are times at which there are much more login attempts\n",
    "## we will find a threshold on the number of login attempts per minute\n",
    "bin_range = pd.date_range(data[\"f0_\"].iloc[0], data[\"f0_\"].iloc[-1], freq=\"1min\")\n",
    "f0_hist, _  = pd.cut(data[\"f0_\"], bins=bin_range, include_lowest=True, right=False, retbins=True)\n",
    "f0_hist = f0_hist.value_counts()\n",
    "f0_pctile_per_minute = f0_hist.describe(percentiles=np.arange(0.01, 1, 0.001)).iloc[4:]\n",
    "print(f0_pctile_per_minute)"
   ]
  },
  {
   "cell_type": "code",
   "execution_count": 13,
   "metadata": {},
   "outputs": [
    {
     "name": "stdout",
     "output_type": "stream",
     "text": [
      "The following periods have unusual number of logins\n",
      "2017-02-11 18:11:38  -  2017-02-11 18:15:38\n",
      "2017-02-12 16:12:38  -  2017-02-12 17:05:38\n",
      "2017-02-13 01:41:38  -  2017-02-13 02:00:38\n"
     ]
    }
   ],
   "source": [
    "# we can see that 99.3 percent of the minute bins have less than 894 logins per minute.\n",
    "# We will pick a a threshold of 894 logins per minute meaning that there is an anomaly if there are\n",
    "# more than 894 logins per minute. We will mention the periods that these anomalies appeared\n",
    "# by aggregating close time stamps\n",
    "login_per_minute_threshold = 894\n",
    "anomalies1 = f0_hist[f0_hist > login_per_minute_threshold]\n",
    "anomalies1 = anomalies1.reset_index()\n",
    "times = pd.Series([anomalies1[\"index\"][i].mid for i in range(len(anomalies1))]).sort_values()\n",
    "new_period_inds = np.sort(np.append(np.where(times.diff() > pd.Timedelta(minutes=2))[0], np.array([0,len(times)])))\n",
    "print(\"The following periods have unusual number of logins\")\n",
    "for period_ind in range(len(new_period_inds)-1):\n",
    "    print(str(times.iloc[new_period_inds[period_ind]]) + \"  -  \" + str(times.iloc[new_period_inds[period_ind+1]-1]))\n",
    "\n"
   ]
  },
  {
   "cell_type": "code",
   "execution_count": 15,
   "metadata": {},
   "outputs": [
    {
     "name": "stdout",
     "output_type": "stream",
     "text": [
      "the number of unique ips is : 20247\n"
     ]
    },
    {
     "data": {
      "text/plain": [
       "Text(0,0.5,'counts')"
      ]
     },
     "execution_count": 15,
     "metadata": {},
     "output_type": "execute_result"
    },
    {
     "data": {
      "image/png": "[encoded data removed]",
      "text/plain": [
       "<Figure size 1152x432 with 1 Axes>"
      ]
     },
     "metadata": {},
     "output_type": "display_data"
    }
   ],
   "source": [
    "## We will try to find another anomaly - number of login attempts from the same ip in an interval of one minute\n",
    "# lets check the histogram of the ips\n",
    "unique_ips = data[\"socket_ip\"].unique()\n",
    "print(\"the number of unique ips is : \" + str(unique_ips.shape[0]))\n",
    "ip_hist = data[\"socket_ip\"].value_counts(sort=False)\n",
    "plt.figure(figsize=(16, 6))\n",
    "ip_hist.plot()\n",
    "plt.xlabel(\"ip_number\")\n",
    "plt.ylabel(\"counts\")\n"
   ]
  },
  {
   "cell_type": "code",
   "execution_count": 16,
   "metadata": {},
   "outputs": [],
   "source": [
    "# There are clearly some ips that try to login more than others\n",
    "# We will calculate the maximum number of login attempts in one minute for each ip\n",
    "ips_max_login = pd.DataFrame(index = unique_ips, columns=[\"max_login_per_minute\"])\n",
    "for ip in unique_ips:\n",
    "    ip_data = data[data[\"socket_ip\"] == ip]\n",
    "    bin_range = pd.date_range(ip_data[\"f0_\"].iloc[0], ip_data[\"f0_\"].iloc[-1] + pd.Timedelta(minutes=1), freq=\"1min\")\n",
    "    f0_hist, _ = pd.cut(ip_data[\"f0_\"], bins=bin_range, include_lowest=True, right=False, retbins=True)\n",
    "    ips_max_login.loc[ip] = f0_hist.value_counts().max()\n"
   ]
  },
  {
   "cell_type": "code",
   "execution_count": 18,
   "metadata": {},
   "outputs": [
    {
     "name": "stdout",
     "output_type": "stream",
     "text": [
      "                   max_login_per_minute\n",
      "1%                               1.0000\n",
      "1.01%                            1.0000\n",
      "1.02%                            1.0000\n",
      "1.03%                            1.0000\n",
      "1.04%                            1.0000\n",
      "1.05%                            1.0000\n",
      "1.06%                            1.0000\n",
      "1.07%                            1.0000\n",
      "1.08%                            1.0000\n",
      "1.09%                            1.0000\n",
      "1.1%                             1.0000\n",
      "1.11%                            1.0000\n",
      "1.12%                            1.0000\n",
      "1.13%                            1.0000\n",
      "1.14%                            1.0000\n",
      "1.15%                            1.0000\n",
      "1.16%                            1.0000\n",
      "1.17%                            1.0000\n",
      "1.18%                            1.0000\n",
      "1.19%                            1.0000\n",
      "1.2%                             1.0000\n",
      "1.21%                            1.0000\n",
      "1.22%                            1.0000\n",
      "1.23%                            1.0000\n",
      "1.24%                            1.0000\n",
      "1.25%                            1.0000\n",
      "1.26%                            1.0000\n",
      "1.27%                            1.0000\n",
      "1.28%                            1.0000\n",
      "1.29%                            1.0000\n",
      "...                                 ...\n",
      "99.6999999999994%               12.0000\n",
      "99.7099999999994%               12.0000\n",
      "99.7199999999994%               12.0000\n",
      "99.7299999999994%               12.0000\n",
      "99.7399999999994%               12.0000\n",
      "99.7499999999994%               12.0000\n",
      "99.7599999999994%               12.0000\n",
      "99.7699999999994%               12.0000\n",
      "99.7799999999994%               12.4588\n",
      "99.7899999999994%               13.0000\n",
      "99.7999999999994%               13.0000\n",
      "99.8099999999994%               13.0000\n",
      "99.8199999999994%               13.0000\n",
      "99.8299999999994%               13.0000\n",
      "99.8399999999994%               13.6064\n",
      "99.8499999999994%               14.0000\n",
      "99.8599999999994%               14.0000\n",
      "99.8699999999994%               14.0000\n",
      "99.8799999999994%               15.0000\n",
      "99.8899999999994%               15.0000\n",
      "99.8999999999994%               16.0000\n",
      "99.9099999999994%               16.0000\n",
      "99.9199999999994%               16.0000\n",
      "99.9299999999994%               16.8278\n",
      "99.9399999999994%               17.0000\n",
      "99.9499999999994%               17.8770\n",
      "99.9599999999994%               18.9016\n",
      "99.9699999999994%               19.9262\n",
      "99.9799999999994%               22.8524\n",
      "99.9899999999994%               25.9262\n",
      "\n",
      "[9901 rows x 1 columns]\n"
     ]
    }
   ],
   "source": [
    "## Lets look at the percentiles of maximum logins in one minute for each ip\n",
    "ips_max_login = ips_max_login.sort_values(\"max_login_per_minute\")\n",
    "max_ip_login_percentiles = ips_max_login.describe(percentiles=np.arange(0.01, 1, 0.0001)).iloc[4:-1]\n",
    "print(max_ip_login_percentiles)"
   ]
  },
  {
   "cell_type": "code",
   "execution_count": 25,
   "metadata": {},
   "outputs": [
    {
     "name": "stdout",
     "output_type": "stream",
     "text": [
      "The following ips have significant maximum amount of login attempts per minute than others: \n",
      "['132.3.13.80', '130.18.104.170', '209.17.114.78', '157.48.5.71', '52.73.39.35']\n"
     ]
    }
   ],
   "source": [
    "## we can see that 99.9699% of the ips have a maximum number of login attempts per one minute\n",
    "#  less than 20. This could be a good threshold to detect an anomaly of an ip that is trying\n",
    "#  to login too many times in one minute\n",
    "max_logins_by_ip_threshold = 20\n",
    "print(\"The following ips have significant greater maximum amount of login attempts per minute than others: \")\n",
    "print(list(ips_max_login[ips_max_login[\"max_login_per_minute\"]>max_logins_by_ip_threshold].index))\n"
   ]
  }
 ],
 "metadata": {
  "kernelspec": {
   "display_name": "Python 3",
   "language": "python",
   "name": "python3"
  },
  "language_info": {
   "codemirror_mode": {
    "name": "ipython",
    "version": 3
   },
   "file_extension": ".py",
   "mimetype": "text/x-python",
   "name": "python",
   "nbconvert_exporter": "python",
   "pygments_lexer": "ipython3",
   "version": "3.6.0"
  }
 },
 "nbformat": 4,
 "nbformat_minor": 2
}
